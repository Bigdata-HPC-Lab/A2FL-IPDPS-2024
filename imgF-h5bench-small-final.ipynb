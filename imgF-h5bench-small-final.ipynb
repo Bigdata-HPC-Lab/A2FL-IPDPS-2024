{
 "cells": [
  {
   "cell_type": "code",
   "execution_count": 1,
   "id": "18c212bc-b41c-4028-b54d-b3acfb1c6ec1",
   "metadata": {},
   "outputs": [],
   "source": [
    "import pandas as pd\n",
    "from PIL import Image\n",
    "import os\n",
    "import numpy as np\n",
    "from xgboost import XGBRegressor\n",
    "from xgboost import XGBClassifier, plot_importance\n",
    "import torch,torchvision\n",
    "from sklearn.model_selection import train_test_split as tts\n",
    "from sklearn.metrics import r2_score\n",
    "from sklearn.model_selection import cross_val_score, KFold\n",
    "from sklearn.decomposition import PCA\n",
    "from tqdm import tqdm\n",
    "import seaborn as sns \n",
    "import matplotlib.pyplot as plt\n",
    "import random\n",
    "import re\n",
    "import time\n",
    "\n",
    "\n",
    "\n",
    "from sklearn.ensemble import RandomForestRegressor\n",
    "from sklearn.ensemble import StackingRegressor\n",
    "from sklearn.ensemble import ExtraTreesRegressor\n",
    "from sklearn.ensemble import GradientBoostingRegressor\n",
    "from sklearn.ensemble import HistGradientBoostingRegressor\n",
    "\n",
    "from sklearn.linear_model import TheilSenRegressor\n",
    "from sklearn.tree import ExtraTreeRegressor\n"
   ]
  },
  {
   "cell_type": "code",
   "execution_count": null,
   "id": "e1142730-da4e-4ecf-9aac-5f6f563b4e86",
   "metadata": {
    "tags": []
   },
   "outputs": [],
   "source": [
    "!python --version"
   ]
  },
  {
   "cell_type": "code",
   "execution_count": 2,
   "id": "67aeb32e-3ee4-4ca3-982a-b83f1d56f274",
   "metadata": {},
   "outputs": [],
   "source": [
    "df = pd.read_csv('./h5bench-small-hue-final.csv') #"
   ]
  },
  {
   "cell_type": "code",
   "execution_count": 7,
   "id": "d10067c9-fbe9-44d3-9972-fab39813b989",
   "metadata": {
    "tags": []
   },
   "outputs": [],
   "source": [
    "\n",
    "x = df[['imgFilename','stripeCount', 'stripeSize', 'runTime', 'fileSize', 'nodeNum', 'procNum']]\n",
    "y = df[['Performance']]"
   ]
  },
  {
   "cell_type": "code",
   "execution_count": 8,
   "id": "1702be6f-3b7c-47c4-bba4-8c5ef61905a6",
   "metadata": {
    "tags": []
   },
   "outputs": [],
   "source": [
    "x_train,x_test,y_train,y_test = tts(x,y,test_size=0.2,random_state=7)"
   ]
  },
  {
   "cell_type": "code",
   "execution_count": 9,
   "id": "752e2c30-6021-4737-9083-b69c304ffc3a",
   "metadata": {},
   "outputs": [
    {
     "data": {
      "text/plain": [
       "(120, 7)"
      ]
     },
     "execution_count": 9,
     "metadata": {},
     "output_type": "execute_result"
    }
   ],
   "source": [
    "x_train.shape"
   ]
  },
  {
   "cell_type": "code",
   "execution_count": 10,
   "id": "85d5cd87-5ad7-442d-bda1-30d28a3f6cf1",
   "metadata": {
    "tags": []
   },
   "outputs": [],
   "source": [
    "preprocess = torchvision.transforms.Compose([\n",
    "    torchvision.transforms.Resize(256),\n",
    "    torchvision.transforms.CenterCrop(224),\n",
    "    torchvision.transforms.ToTensor(),\n",
    "    torchvision.transforms.Normalize(mean=[0.485, 0.456, 0.406], std=[0.229, 0.224, 0.225]),\n",
    "])"
   ]
  },
  {
   "cell_type": "code",
   "execution_count": 11,
   "id": "1dc6dde3-3d27-4fa4-b0cd-fc336a2cd42f",
   "metadata": {
    "tags": []
   },
   "outputs": [],
   "source": [
    "## yes image but no runtime\n",
    "def getFeatures(x_df,model):\n",
    "\n",
    "    train_fc = []\n",
    "    \n",
    "    for _,val in tqdm(x_df.iterrows()):\n",
    "        img = Image.open(val['imgFilename']).convert('RGB')\n",
    "        input_tensor = preprocess(img)\n",
    "        out_fc = model(input_tensor.unsqueeze(0)).squeeze(0).numpy()\n",
    "\n",
    "        combinedfc = np.append(out_fc,val['stripeCount'])\n",
    "        combinedfc = np.append(combinedfc,val['stripeSize'])\n",
    "        combinedfc = np.append(combinedfc,val['fileSize'])\n",
    "        combinedfc = np.append(combinedfc,val['nodeNum'])\n",
    "        combinedfc = np.append(combinedfc,val['procNum'])\n",
    "        train_fc.append(combinedfc)\n",
    "    train_fc = np.stack(train_fc)\n",
    "    return train_fc"
   ]
  },
  {
   "cell_type": "code",
   "execution_count": 12,
   "id": "6d8d94a5-9fdb-4cd8-9a1d-092dd6884232",
   "metadata": {
    "tags": []
   },
   "outputs": [
    {
     "name": "stderr",
     "output_type": "stream",
     "text": [
      "/global/homes/s/sgkim/.local/perlmutter/python-3.11/lib/python3.11/site-packages/torchvision/models/_utils.py:223: UserWarning: Arguments other than a weight enum or `None` for 'weights' are deprecated since 0.13 and may be removed in the future. The current behavior is equivalent to passing `weights=VGG16_Weights.IMAGENET1K_V1`. You can also use `weights=VGG16_Weights.DEFAULT` to get the most up-to-date weights.\n",
      "  warnings.warn(msg)\n"
     ]
    }
   ],
   "source": [
    "model = torchvision.models.vgg16(weights=True)\n",
    "model = model.eval()\n",
    "for param in model.parameters():\n",
    "    param.requires_grad = False"
   ]
  },
  {
   "cell_type": "code",
   "execution_count": 13,
   "id": "dddeab7e-f73b-4dd4-980c-4a845bcd77e9",
   "metadata": {
    "tags": []
   },
   "outputs": [],
   "source": [
    "model.classifier = torch.nn.Sequential(*list(model.classifier.children())[:-7])"
   ]
  },
  {
   "cell_type": "code",
   "execution_count": 14,
   "id": "7253a4d2-49ec-45ea-8e81-1f680961e97a",
   "metadata": {
    "tags": []
   },
   "outputs": [
    {
     "name": "stderr",
     "output_type": "stream",
     "text": [
      "120it [00:15,  7.60it/s]\n"
     ]
    }
   ],
   "source": [
    "features = getFeatures(x_train,model)"
   ]
  },
  {
   "cell_type": "code",
   "execution_count": 15,
   "id": "f8d78ba8-77d9-4018-89f7-cdf8bd7c967a",
   "metadata": {
    "tags": []
   },
   "outputs": [
    {
     "name": "stderr",
     "output_type": "stream",
     "text": [
      "30it [00:03,  8.03it/s]\n"
     ]
    }
   ],
   "source": [
    "testfeatures = getFeatures(x_test, model)"
   ]
  },
  {
   "cell_type": "code",
   "execution_count": 16,
   "id": "c5ab5993-4d14-43e8-a92a-d806eb1a6830",
   "metadata": {
    "tags": []
   },
   "outputs": [
    {
     "name": "stdout",
     "output_type": "stream",
     "text": [
      "(120, 25093)\n",
      "(30, 25093)\n"
     ]
    }
   ],
   "source": [
    "print(features.shape)\n",
    "print(testfeatures.shape)"
   ]
  },
  {
   "cell_type": "code",
   "execution_count": 18,
   "id": "49a4980e-053c-4612-a24c-8b1fe652b43e",
   "metadata": {
    "tags": []
   },
   "outputs": [],
   "source": [
    "# reg = XGBRegressor()\n",
    "# reg = RandomForestRegressor() \n",
    "##reg = ExtraTreesRegressor(n_estimators=5, max_depth=10, max_features=0.3, n_jobs=-1, random_state=0) \n",
    "reg = ExtraTreesRegressor() # "
   ]
  },
  {
   "cell_type": "code",
   "execution_count": 19,
   "id": "38bdee4f-ee8d-4199-ba54-bbadee9c5689",
   "metadata": {
    "tags": []
   },
   "outputs": [
    {
     "name": "stderr",
     "output_type": "stream",
     "text": [
      "/global/common/software/nersc/pe/conda-envs/23.10.0/python-3.11/nersc-python/lib/python3.11/site-packages/sklearn/base.py:1152: DataConversionWarning: A column-vector y was passed when a 1d array was expected. Please change the shape of y to (n_samples,), for example using ravel().\n",
      "  return fit_method(estimator, *args, **kwargs)\n"
     ]
    },
    {
     "name": "stdout",
     "output_type": "stream",
     "text": [
      "Time: 7.618940591812134\n"
     ]
    }
   ],
   "source": [
    "start = time.time()\n",
    "\n",
    "reg.fit(features,y_train)\n",
    "\n",
    "print(f'Time: {time.time() - start}')"
   ]
  },
  {
   "cell_type": "code",
   "execution_count": 15,
   "id": "dbfee0dc-1f0d-4dab-91bc-efde4c4a759f",
   "metadata": {
    "tags": []
   },
   "outputs": [
    {
     "name": "stdout",
     "output_type": "stream",
     "text": [
      "Training score:  1.0\n"
     ]
    }
   ],
   "source": [
    "score = reg.score(features, y_train)  \n",
    "print(\"Training score: \", score)"
   ]
  },
  {
   "cell_type": "code",
   "execution_count": 16,
   "id": "65bdfe1c-bba8-4126-a308-cfd2718ad64c",
   "metadata": {
    "tags": []
   },
   "outputs": [],
   "source": [
    "pred = reg.predict(testfeatures)"
   ]
  },
  {
   "cell_type": "code",
   "execution_count": 17,
   "id": "5b461e07-40d4-444d-9ca1-8143d53383c0",
   "metadata": {
    "tags": []
   },
   "outputs": [
    {
     "name": "stdout",
     "output_type": "stream",
     "text": [
      "(30,)\n",
      "(30, 1)\n"
     ]
    }
   ],
   "source": [
    "print(pred.shape)\n",
    "print(y_test.shape)"
   ]
  },
  {
   "cell_type": "code",
   "execution_count": 18,
   "id": "76932609-f4c9-48f3-bfad-a18752d86f9e",
   "metadata": {
    "tags": []
   },
   "outputs": [
    {
     "name": "stdout",
     "output_type": "stream",
     "text": [
      "R2 score:  0.9360856842367715\n"
     ]
    }
   ],
   "source": [
    "r2score = r2_score(y_test, pred)\n",
    "print(\"R2 score: \", r2score)"
   ]
  },
  {
   "cell_type": "code",
   "execution_count": null,
   "id": "258a46b3",
   "metadata": {},
   "outputs": [],
   "source": [
    "sns.regplot(x = y_test,y = pred);\n",
    "\n",
    "plt.title('Regression Plot on Tested Data', fontsize=18)\n",
    "plt.xlabel('Actual Performance', fontsize=18)\n",
    "plt.ylabel('Predicted Performance',fontsize=18)\n",
    "plt.gcf().set_dpi(600)\n",
    "plt.show()"
   ]
  },
  {
   "cell_type": "code",
   "execution_count": null,
   "id": "e42358ca-a6dc-41b9-bff1-5d692a1ba3eb",
   "metadata": {
    "tags": []
   },
   "outputs": [],
   "source": [
    "######################################################################"
   ]
  },
  {
   "cell_type": "code",
   "execution_count": null,
   "id": "8fbe7bf3-8f7d-4468-a8f6-a45f06e365b1",
   "metadata": {},
   "outputs": [],
   "source": [
    "# imgFilename\tstripeCount\tstripeSize\trunTime\tPerformance\tfileSize\tnodeNum\tprocNum\tdimNum\n",
    "r2Sum = 0\n",
    "cnt = 0\n",
    "maxR2score = 0\n",
    "maxImg = \"\"\n",
    "\n",
    "for idx, row in tqdm(x_test.iterrows()):\n",
    "    df_row = pd.DataFrame(data=[[row['imgFilename'], row['stripeCount'], row['stripeSize'], row['runTime'], row['fileSize'], row['nodeNum'], row['procNum']]],\n",
    "                         columns=['imgFilename', 'stripeCount', 'stripeSize', 'runTime', 'fileSize', 'nodeNum', 'procNum'])\n",
    "\n",
    "\n",
    "    start = time.time()\n",
    "    features_to_test_PFS = getFeatures_for_test_all_PFSconfig(df_row, model)\n",
    "    print(f'Feature Time: {time.time() - start}')\n",
    "\n",
    "    print(features_to_test_PFS)\n",
    "\n",
    "\n",
    "    imgFilenameTest = row['imgFilename']\n",
    "    print(\"Img Name is {}\".format(imgFilenameTest))\n",
    "    \n",
    "    \n",
    "    splitLine = imgFilenameTest.split(\"/\")[2].split(\"-\")\n",
    "\n",
    "    jobID = re.findall(r'\\d+',splitLine[4])[0]\n",
    "    df_row_match = df[(df['imgFilename'].str.contains(splitLine[0]+\"-\"+splitLine[1]+\"-\"+splitLine[2]))]\n",
    "    df_row_match = df_row_match.sort_values(by=\"stripeCount\", ascending=True)\n",
    "\n",
    "    perfList = list(df_row_match['Performance'])\n",
    "    print(\"Actual Performance is {}\".format(perfList))\n",
    "    \n",
    "    start = time.time()\n",
    "    predTestPFS = reg.predict(features_to_test_PFS)\n",
    "    print(f'Predict Time: {time.time() - start}')\n",
    "\n",
    "    if len(perfList) == len(predTestPFS):\n",
    "        r2score = r2_score(perfList, predTestPFS)\n",
    "        r2Sum = r2Sum + r2score\n",
    "        cnt = cnt + 1\n",
    "        print(\"Predict Performance is {}\".format(predTestPFS))\n",
    "        print(\"r2 score is {}\\n\\n\".format(r2score))\n",
    "        \n",
    "\n",
    "        xgraph = [\"1\", \"8\", \"16\", \"32\", \"64\"]\n",
    "        sns.lineplot(x=xgraph,y=predTestPFS, color='red', marker='^', legend=\"auto\");\n",
    "        sns.lineplot(x=xgraph,y=perfList, color='blue', marker='o', legend=\"auto\");\n",
    "        plt.xlabel('stripe counts', fontsize=18)\n",
    "        plt.ylabel('Reg Predicted Performance',fontsize=18)\n",
    "        plt.legend(labels=[\"Predicted\",\"Actual\"])\n",
    "        plt.gcf().set_dpi(600)\n",
    "        plt.show()\n",
    "\n",
    "\n",
    "        plt.show()\n",
    "        \n",
    "        if r2score >= maxR2score:\n",
    "            maxR2score = r2score\n",
    "            maxImg = imgFilenameTest\n",
    "    else:\n",
    "        print(\"No data match between pred and actual: skipping \\n\\n\")\n",
    "    # break\n",
    "\n",
    "\n",
    "    \n",
    "print(\"Avg R2score is {}\".format(r2Sum / cnt))\n",
    "print(\"Max R2score is {} / img: {}\".format(maxR2score, maxImg))\n",
    "    \n",
    "    \n"
   ]
  },
  {
   "cell_type": "code",
   "execution_count": null,
   "id": "0b4a9006-d2e1-432a-96b5-43e676ee8655",
   "metadata": {},
   "outputs": [],
   "source": []
  },
  {
   "cell_type": "code",
   "execution_count": null,
   "id": "81ed68b1-3646-4313-bb29-a4aa97333e2c",
   "metadata": {},
   "outputs": [],
   "source": []
  },
  {
   "cell_type": "code",
   "execution_count": null,
   "id": "bfb80333-f895-481f-9a64-b927f7b30657",
   "metadata": {},
   "outputs": [],
   "source": []
  }
 ],
 "metadata": {
  "kernelspec": {
   "display_name": "Python 3 (ipykernel)",
   "language": "python",
   "name": "python3"
  },
  "language_info": {
   "codemirror_mode": {
    "name": "ipython",
    "version": 3
   },
   "file_extension": ".py",
   "mimetype": "text/x-python",
   "name": "python",
   "nbconvert_exporter": "python",
   "pygments_lexer": "ipython3",
   "version": "3.10.8"
  }
 },
 "nbformat": 4,
 "nbformat_minor": 5
}
